{
 "nbformat": 4,
 "nbformat_minor": 2,
 "metadata": {
  "language_info": {
   "name": "python",
   "codemirror_mode": {
    "name": "ipython",
    "version": 3
   },
   "version": "3.7.4"
  },
  "orig_nbformat": 2,
  "file_extension": ".py",
  "mimetype": "text/x-python",
  "name": "python",
  "npconvert_exporter": "python",
  "pygments_lexer": "ipython3",
  "version": 3
 },
 "cells": [
  {
   "cell_type": "markdown",
   "execution_count": null,
   "metadata": {},
   "outputs": [],
   "source": [
    "# Hosting a model as a REST Endpoint \n",
    "\n",
    "This example gives an easy introduction into how to host your trained models and make them accesible as REST Endpoints."
   ]
  },
  {
   "cell_type": "markdown",
   "execution_count": null,
   "metadata": {},
   "outputs": [],
   "source": [
    "## Set Up Training and Test Set"
   ]
  },
  {
   "cell_type": "code",
   "execution_count": 3,
   "metadata": {},
   "outputs": [],
   "source": [
    "from sklearn.preprocessing import normalize \n",
    "from amorf.datasets import RiverFlow1 \n",
    "from sklearn.model_selection import train_test_split\n",
    "\n",
    "X, y = RiverFlow1().get_numpy()\n",
    "\n",
    "X_train, X_test, y_train, y_test = train_test_split(X, y, test_size=0.2, shuffle=True)\n",
    "\n"
   ]
  },
  {
   "cell_type": "markdown",
   "execution_count": null,
   "metadata": {},
   "outputs": [],
   "source": [
    "## Initialize and Train Estimator"
   ]
  },
  {
   "cell_type": "code",
   "execution_count": 4,
   "metadata": {},
   "outputs": [
    {
     "name": "stderr",
     "output_type": "stream",
     "text": "/home/davidhildner/anaconda3/lib/python3.7/site-packages/sklearn/ensemble/weight_boosting.py:29: DeprecationWarning: numpy.core.umath_tests is an internal NumPy module and should not be imported. It will be removed in a future NumPy release.\n  from numpy.core.umath_tests import inner1d\n0.22651400661633916\n"
    }
   ],
   "source": [
    "from amorf.problemTransformation import SingleTargetMethod\n",
    "from amorf.metrics import average_relative_root_mean_squared_error\n",
    "\n",
    "regressor = SingleTargetMethod('gradientboost')\n",
    "regressor.fit(X_train, y_train) \n"
   ]
  },
  {
   "cell_type": "markdown",
   "execution_count": null,
   "metadata": {},
   "outputs": [],
   "source": [
    "## Perform Prediction and Calculate Error \n"
   ]
  },
  {
   "cell_type": "code",
   "execution_count": null,
   "metadata": {},
   "outputs": [],
   "source": [
    "result = regressor.predict(X_test)  \n",
    "print(average_relative_root_mean_squared_error(result, y_test))"
   ]
  },
  {
   "cell_type": "markdown",
   "execution_count": null,
   "metadata": {},
   "outputs": [],
   "source": [
    "## Setting Up Endpoint using Flask"
   ]
  },
  {
   "cell_type": "code",
   "execution_count": 16,
   "metadata": {},
   "outputs": [
    {
     "name": "stdout",
     "output_type": "stream",
     "text": "* Serving Flask app \"__main__\" (lazy loading)\n * Environment: production\n   WARNING: Do not use the development server in a production environment.\n   Use a production WSGI server instead.\n * Debug mode: off\n * Running on http://127.0.0.1:5000/ (Press CTRL+C to quit)\n/home/davidhildner/anaconda3/lib/python3.7/site-packages/sklearn/externals/joblib/parallel.py:547: UserWarning: Multiprocessing-backed parallel loops cannot be nested below threads, setting n_jobs=1\n  **self._backend_args)\n127.0.0.1 - - [05/Jan/2020 17:07:51] \"POST /predict HTTP/1.1\" 200 -\n127.0.0.1 - - [05/Jan/2020 17:08:03] \"POST /predict HTTP/1.1\" 200 -\n127.0.0.1 - - [05/Jan/2020 17:08:14] \"POST /predict HTTP/1.1\" 200 -\n127.0.0.1 - - [05/Jan/2020 17:08:16] \"POST /predict HTTP/1.1\" 200 -\n127.0.0.1 - - [05/Jan/2020 17:08:23] \"POST /predict HTTP/1.1\" 200 -\n127.0.0.1 - - [05/Jan/2020 17:08:25] \"POST /predict HTTP/1.1\" 200 -\n127.0.0.1 - - [05/Jan/2020 17:08:26] \"POST /predict HTTP/1.1\" 200 -\n127.0.0.1 - - [05/Jan/2020 17:08:27] \"POST /predict HTTP/1.1\" 200 -\n127.0.0.1 - - [05/Jan/2020 17:08:27] \"POST /predict HTTP/1.1\" 200 -\n127.0.0.1 - - [05/Jan/2020 17:08:28] \"POST /predict HTTP/1.1\" 200 -\n127.0.0.1 - - [05/Jan/2020 17:08:29] \"POST /predict HTTP/1.1\" 200 -\n127.0.0.1 - - [05/Jan/2020 17:08:30] \"POST /predict HTTP/1.1\" 200 -\n127.0.0.1 - - [05/Jan/2020 17:08:41] \"POST /predict HTTP/1.1\" 200 -\n"
    }
   ],
   "source": [
    "from flask import Flask, jsonify, request\n",
    "from flask_cors import CORS, cross_origin\n",
    "import numpy as np\n",
    "\n",
    "app = Flask(__name__)\n",
    "CORS(app)\n",
    "\n",
    "@app.route(\"/predict\", methods=['POST'])\n",
    "def predict():\n",
    "    payload = request.json['data']\n",
    "    value = np.array(payload).reshape(1,-1)   \n",
    "    \n",
    "    prediction = regressor.predict(value)\n",
    "    \n",
    "    ret = '{\"prediction\":' + str(prediction) + '}'\n",
    "    \n",
    "    return ret\n",
    "\n",
    "# running REST API on 127.0.0.1:5000\n",
    "if __name__ == \"__main__\":\n",
    "    app.run(debug=False, host='127.0.0.1', port=5000)"
   ]
  },
  {
   "cell_type": "markdown",
   "execution_count": null,
   "metadata": {},
   "outputs": [],
   "source": [
    "## Use Curl to get Prediction\n",
    "\n",
    "If you send a Post request using Curl (or any other request library or tool) to the endpoint containing a new sample it will return prediction. \n",
    " \n",
    "```bash \n",
    "curl -i -X POST \\\n",
    "   -H \"Content-Type:application/json\" \\\n",
    "   -d \\\n",
    "'{\n",
    "  \"data\": [265,  3.26,   256,   183,  62.4,  8.11,   157,    57,   264,  3.27,   257,   185,  61.4,  8.42,   156,  57.6,   268,  3.33,   257,   185,  61.2,  8.21,   156,  55.9,   269,  3.35,   257,   186,  60.9,  8.04,   157,  54.9,   272,  3.36,   259,   186,  61.2,  8.07,   158,  54.9,   274,  3.34,   261,   187,  61.3,  8.18,   159,  55.5,   283,  3.36,   264,   190,  63.3,  8.42,   162,  55.8,   287,  3.39,   273,   193,    64,   8.7,   164,  57.9]\n",
    "}' \\\n",
    " 'http://localhost:5000/predict'```"
   ]
  }
 ]
}