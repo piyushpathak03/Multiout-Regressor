{
 "nbformat": 4,
 "nbformat_minor": 2,
 "metadata": {
  "language_info": {
   "name": "python",
   "codemirror_mode": {
    "name": "ipython",
    "version": 3
   },
   "version": "3.7.4"
  },
  "orig_nbformat": 2,
  "file_extension": ".py",
  "mimetype": "text/x-python",
  "name": "python",
  "npconvert_exporter": "python",
  "pygments_lexer": "ipython3",
  "version": 3
 },
 "cells": [
  {
   "cell_type": "markdown",
   "execution_count": null,
   "metadata": {},
   "outputs": [],
   "source": [
    "# Basic Neural Net Regression Example \n",
    "This example will show you how to use one of the provided data sets and ```amorf.NeuralNetRegression.NeuralNetRegressor``` to perform a basic multi-output Regression"
   ]
  },
  {
   "cell_type": "markdown",
   "execution_count": null,
   "metadata": {},
   "outputs": [],
   "source": [
    "## Set Up Training and Test Set"
   ]
  },
  {
   "cell_type": "code",
   "execution_count": 2,
   "metadata": {},
   "outputs": [],
   "source": [
    "from amorf.datasets import RiverFlow1 \n",
    "from sklearn.model_selection import train_test_split\n",
    "\n",
    "X, y = RiverFlow1().get_numpy()\n",
    "\n",
    "X_train, X_test, y_train, y_test = train_test_split(X, y, test_size=0.2, shuffle=True)"
   ]
  },
  {
   "cell_type": "markdown",
   "execution_count": null,
   "metadata": {},
   "outputs": [],
   "source": [
    "## Create a Simple Model\n"
   ]
  },
  {
   "cell_type": "code",
   "execution_count": 3,
   "metadata": {},
   "outputs": [],
   "source": [
    "import amorf.neuralNetRegression as nn \n",
    "\n",
    "input_dim = len(X_train[0])\n",
    "output_dim = len(y_train[0])\n",
    "model = nn.Linear_NN_Model(input_dim, output_dim,\n",
    "                           'max', p_dropout_1=0.2, p_dropout_2=0.2)"
   ]
  },
  {
   "cell_type": "markdown",
   "execution_count": null,
   "metadata": {},
   "outputs": [],
   "source": [
    "## Initialize and Train Estimator\n"
   ]
  },
  {
   "cell_type": "code",
   "execution_count": 4,
   "metadata": {},
   "outputs": [
    {
     "name": "stdout",
     "output_type": "stream",
     "text": "Epoch: 0\nValidation Error: 3.194162130355835 \nTrain Error: 2.657834053039551\nEpoch: 100\nValidation Error: 0.9294199347496033 \nTrain Error: 0.8704547882080078\nEpoch: 200\nValidation Error: 0.5235898494720459 \nTrain Error: 0.49828508496284485\nEpoch: 300\nValidation Error: 0.5044581294059753 \nTrain Error: 0.468587189912796\nEpoch: 400\nValidation Error: 0.4833521544933319 \nTrain Error: 0.45821723341941833\nEpoch: 500\nValidation Error: 0.49034976959228516 \nTrain Error: 0.4538421630859375\nEpoch: 600\nValidation Error: 0.4719168543815613 \nTrain Error: 0.4488970637321472\nEpoch: 700\nValidation Error: 0.46226900815963745 \nTrain Error: 0.44931671023368835\nEpoch: 800\nValidation Error: 0.4580085873603821 \nTrain Error: 0.4436105489730835\nEpoch: 900\nValidation Error: 0.4411541521549225 \nTrain Error: 0.43967539072036743\nEpoch: 1000\nValidation Error: 0.4462776780128479 \nTrain Error: 0.4367579221725464\nEpoch: 1100\nValidation Error: 0.4281241297721863 \nTrain Error: 0.43428051471710205\nEpoch: 1200\nValidation Error: 0.44050902128219604 \nTrain Error: 0.4288420081138611\nEpoch: 1300\nValidation Error: 0.40718942880630493 \nTrain Error: 0.43072620034217834\nEpoch: 1400\nValidation Error: 0.4301925301551819 \nTrain Error: 0.42641913890838623\nEpoch: 1500\nValidation Error: 0.4194832742214203 \nTrain Error: 0.4235250949859619\nFinal Epochs: 1586 \nFinal Train Error: 0.42496997117996216\nFinal Validation Error: 0.4204845726490021\n"
    },
    {
     "data": {
      "text/plain": "<amorf.neuralNetRegression.NeuralNetRegressor at 0x7f6c59d65d10>"
     },
     "execution_count": 4,
     "metadata": {},
     "output_type": "execute_result"
    }
   ],
   "source": [
    "regressor = nn.NeuralNetRegressor(model=model, patience=5, training_limit=None)\n",
    "regressor.fit(X_train, y_train)"
   ]
  },
  {
   "cell_type": "markdown",
   "execution_count": null,
   "metadata": {},
   "outputs": [],
   "source": [
    "## Perform Prediction and Calculate Error \n"
   ]
  },
  {
   "cell_type": "code",
   "execution_count": 6,
   "metadata": {},
   "outputs": [
    {
     "name": "stdout",
     "output_type": "stream",
     "text": "0.8856831938028336\n"
    }
   ],
   "source": [
    "from amorf.metrics import average_relative_root_mean_squared_error\n",
    "result = regressor.predict(X_test)\n",
    "\n",
    "print(average_relative_root_mean_squared_error(result, y_test))"
   ]
  },
  {
   "cell_type": "code",
   "execution_count": null,
   "metadata": {},
   "outputs": [],
   "source": []
  }
 ]
}