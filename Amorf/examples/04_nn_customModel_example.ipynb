{
 "nbformat": 4,
 "nbformat_minor": 2,
 "metadata": {
  "language_info": {
   "name": "python",
   "codemirror_mode": {
    "name": "ipython",
    "version": 3
   },
   "version": "3.7.4"
  },
  "orig_nbformat": 2,
  "file_extension": ".py",
  "mimetype": "text/x-python",
  "name": "python",
  "npconvert_exporter": "python",
  "pygments_lexer": "ipython3",
  "version": 3
 },
 "cells": [
  {
   "cell_type": "markdown",
   "execution_count": null,
   "metadata": {},
   "outputs": [],
   "source": [
    "# Advanced Neural Net Regression Example \n",
    "This example will show you how to use one of the provided data sets and ```amorf.NeuralNetRegression.NeuralNetRegressor``` to perform a multi-output Regression using a custom PyTorch model. \n"
   ]
  },
  {
   "cell_type": "markdown",
   "execution_count": null,
   "metadata": {},
   "outputs": [],
   "source": [
    "## Load Test and Training Data"
   ]
  },
  {
   "cell_type": "code",
   "execution_count": 1,
   "metadata": {},
   "outputs": [],
   "source": [
    "from amorf.datasets import RiverFlow1 \n",
    "from sklearn.model_selection import train_test_split\n",
    "\n",
    "X, y = RiverFlow1().get_numpy()\n",
    "\n",
    "X_train, X_test, y_train, y_test = train_test_split(X, y, test_size=0.2, shuffle=True)"
   ]
  },
  {
   "cell_type": "markdown",
   "execution_count": null,
   "metadata": {},
   "outputs": [],
   "source": [
    "## Normalizing Data"
   ]
  },
  {
   "cell_type": "code",
   "execution_count": 2,
   "metadata": {},
   "outputs": [],
   "source": [
    "from sklearn.preprocessing import normalize \n",
    "\n",
    "X_train = normalize(X_train) \n",
    "X_test = normalize(X_test)"
   ]
  },
  {
   "cell_type": "markdown",
   "execution_count": null,
   "metadata": {},
   "outputs": [],
   "source": [
    "## Build Custom PyTorch Model \n",
    "\n",
    "If you feel you don't know enough about PyTorch moodels you can take a look at this https://pytorch.org/tutorials/beginner/blitz/neural_networks_tutorial.html#sphx-glr-beginner-blitz-neural-networks-tutorial-py  "
   ]
  },
  {
   "cell_type": "code",
   "execution_count": 3,
   "metadata": {},
   "outputs": [],
   "source": [
    "import torch\n",
    "import torch.nn as nn\n",
    "import torch.nn.functional as F\n",
    "\n",
    "\n",
    "class Net(nn.Module):\n",
    "    def __init__(self, input_dim, output_dim, p_dropout_1=0.5, p_dropout_2=0.5):\n",
    "        super().__init__()\n",
    "        self.dropout_1 = p_dropout_1\n",
    "        self.dropout_2 = p_dropout_2\n",
    "       \n",
    "        self.batchNorm1 = nn.BatchNorm1d(256)\n",
    "        self.batchNorm2 = nn.BatchNorm1d(64)\n",
    "\n",
    "        self.fc1 = nn.Linear(input_dim, 256)\n",
    "        self.fc2 = nn.Linear(256, 128)\n",
    "        self.fc3 = nn.Linear(128, 64) \n",
    "        self.fc4 = nn.Linear(64,32) \n",
    "        self.fc5 = nn.Linear(32,output_dim)\n",
    "\n",
    "    def forward(self, x):\n",
    "        out = self.fc1(x)\n",
    "        out = self.batchNorm1(out)\n",
    "        out = F.relu(out)\n",
    "        out = F.dropout(out, self.dropout_1)\n",
    "        out = self.fc2(out)\n",
    "        out = F.relu(out)\n",
    "        out = self.fc3(out)\n",
    "        out = self.batchNorm2(out)\n",
    "        out = F.relu(out) \n",
    "        out = F.dropout(out, self.dropout_2)\n",
    "        out = self.fc4(out)\n",
    "        out = F.relu(out) \n",
    "        out = self.fc5(out)\n",
    "\n",
    "        return out \n",
    "    \n",
    "    def convert_train_set_to_tensor(self, X_train, y_train, device):\n",
    "        X_train_t = torch.from_numpy(X_train).to(device).float()\n",
    "        y_train_t = torch.from_numpy(y_train).to(device).float()\n",
    "\n",
    "        return X_train_t, y_train_t\n",
    "\n",
    "    def convert_test_set_to_tensor(self, X_test, device):\n",
    "        X_test_t = torch.from_numpy(X_test).to(device).float()\n",
    "        return X_test_t"
   ]
  },
  {
   "cell_type": "markdown",
   "execution_count": null,
   "metadata": {},
   "outputs": [],
   "source": [
    "## Initialize and Train Estimator"
   ]
  },
  {
   "cell_type": "code",
   "execution_count": 4,
   "metadata": {},
   "outputs": [
    {
     "name": "stdout",
     "output_type": "stream",
     "text": "Epoch: 0\nValidation Error: 2.892699956893921 \nTrain Error: 2.4520039558410645\nEpoch: 100\nValidation Error: 0.48004794120788574 \nTrain Error: 0.4241064488887787\nEpoch: 200\nValidation Error: 0.3794132471084595 \nTrain Error: 0.36807572841644287\nEpoch: 300\nValidation Error: 0.34753766655921936 \nTrain Error: 0.34443774819374084\nEpoch: 400\nValidation Error: 0.32763195037841797 \nTrain Error: 0.31984397768974304\nFinal Epochs: 500 \nFinal Train Error: 0.2917402386665344\nFinal Validation Error: 0.3000462055206299\n"
    },
    {
     "data": {
      "text/plain": "<amorf.neuralNetRegression.NeuralNetRegressor at 0x7eff46e31b10>"
     },
     "execution_count": 4,
     "metadata": {},
     "output_type": "execute_result"
    }
   ],
   "source": [
    "import amorf.neuralNetRegression as neural \n",
    "\n",
    "input_dim = len(X_train[0])\n",
    "output_dim = len(y_train[0]) \n",
    "\n",
    "model = Net(input_dim, output_dim, p_dropout_1=0.3, p_dropout_2=0.2)  \n",
    "estimator = neural.NeuralNetRegressor(model= model, patience=None, training_limit=500, batch_size=1000) \n",
    "estimator.fit(X_train, y_train)\n"
   ]
  },
  {
   "cell_type": "markdown",
   "execution_count": null,
   "metadata": {},
   "outputs": [],
   "source": [
    "## Perform Prediction and Calculate Error \n"
   ]
  },
  {
   "cell_type": "code",
   "execution_count": 5,
   "metadata": {},
   "outputs": [
    {
     "name": "stdout",
     "output_type": "stream",
     "text": "0.3184860236942768\n"
    }
   ],
   "source": [
    "from amorf.metrics import average_relative_root_mean_squared_error\n",
    "\n",
    "result = estimator.predict(X_test) \n",
    "print(average_relative_root_mean_squared_error(result, y_test))"
   ]
  },
  {
   "cell_type": "markdown",
   "execution_count": null,
   "metadata": {},
   "outputs": [],
   "source": [
    "## Save Model"
   ]
  },
  {
   "cell_type": "code",
   "execution_count": 11,
   "metadata": {},
   "outputs": [
    {
     "name": "stderr",
     "output_type": "stream",
     "text": "/home/davidhildner/anaconda3/envs/ppl/lib/python3.7/site-packages/torch/serialization.py:292: UserWarning: Couldn't retrieve source code for container of type Net. It won't be checked for correctness upon loading.\n  \"type \" + obj.__name__ + \". It won't be checked \"\n/home/davidhildner/anaconda3/envs/ppl/lib/python3.7/site-packages/torch/serialization.py:292: UserWarning: Couldn't retrieve source code for container of type BatchNorm1d. It won't be checked for correctness upon loading.\n  \"type \" + obj.__name__ + \". It won't be checked \"\n/home/davidhildner/anaconda3/envs/ppl/lib/python3.7/site-packages/torch/serialization.py:292: UserWarning: Couldn't retrieve source code for container of type Linear. It won't be checked for correctness upon loading.\n  \"type \" + obj.__name__ + \". It won't be checked \"\n"
    }
   ],
   "source": [
    "path = \"savedExampleModel.ckpt\"\n",
    "estimator.save(path)"
   ]
  },
  {
   "cell_type": "markdown",
   "execution_count": null,
   "metadata": {},
   "outputs": [],
   "source": [
    "## Load Model and Predict"
   ]
  },
  {
   "cell_type": "code",
   "execution_count": 12,
   "metadata": {},
   "outputs": [
    {
     "name": "stdout",
     "output_type": "stream",
     "text": "0.3184860236942768\n"
    }
   ],
   "source": [
    "newEstimator = neural.NeuralNetRegressor(patience=None, training_limit=10000, batch_size=1000) \n",
    "newEstimator.load(\"savedExampleModel.ckpt\") \n",
    "\n",
    "new_result = newEstimator.predict(X_test) \n",
    "print(average_relative_root_mean_squared_error(result, y_test))"
   ]
  }
 ]
}