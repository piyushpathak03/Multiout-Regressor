{
 "nbformat": 4,
 "nbformat_minor": 2,
 "metadata": {
  "language_info": {
   "name": "python",
   "codemirror_mode": {
    "name": "ipython",
    "version": 3
   },
   "version": "3.7.4"
  },
  "orig_nbformat": 2,
  "file_extension": ".py",
  "mimetype": "text/x-python",
  "name": "python",
  "npconvert_exporter": "python",
  "pygments_lexer": "ipython3",
  "version": 3
 },
 "cells": [
  {
   "cell_type": "markdown",
   "execution_count": null,
   "metadata": {},
   "outputs": [],
   "source": [
    "# Single Target Regression Example \n",
    "This example will show you how to use one of the provided data sets and ```amorf.problemTransformation.SingleTargetMethod``` to perform a basic multi-output Regression.  \n",
    "\n",
    "The Single Target Method trains an estimator for each target variable, predicts each target variable and concatenates the results to yield a multi output regression.\n"
   ]
  },
  {
   "cell_type": "markdown",
   "execution_count": null,
   "metadata": {},
   "outputs": [],
   "source": [
    "## Setting Up Training and Test Set"
   ]
  },
  {
   "cell_type": "code",
   "execution_count": 1,
   "metadata": {},
   "outputs": [],
   "source": [
    "from amorf.datasets import RiverFlow1 \n",
    "from sklearn.model_selection import train_test_split\n",
    "\n",
    "X, y = RiverFlow1().get_numpy()\n",
    "\n",
    "X_train, X_test, y_train, y_test = train_test_split(X, y, test_size=0.2, shuffle=True)"
   ]
  },
  {
   "cell_type": "markdown",
   "execution_count": null,
   "metadata": {},
   "outputs": [],
   "source": [
    "## Normalize Data"
   ]
  },
  {
   "cell_type": "code",
   "execution_count": 2,
   "metadata": {},
   "outputs": [],
   "source": [
    "from sklearn.preprocessing import normalize \n",
    "\n",
    "X_train = normalize(X_train) \n",
    "X_test = normalize(X_test)"
   ]
  },
  {
   "cell_type": "markdown",
   "execution_count": null,
   "metadata": {},
   "outputs": [],
   "source": [
    "## Initialize all Selectors, Perform Prediction and Calculate Error"
   ]
  },
  {
   "cell_type": "code",
   "execution_count": 3,
   "metadata": {},
   "outputs": [],
   "source": [
    " selectors = ['linear', 'kneighbors',\n",
    "                          'adaboost', 'gradientboost', 'mlp', 'svr', 'xgb']"
   ]
  },
  {
   "cell_type": "code",
   "execution_count": 7,
   "metadata": {},
   "outputs": [
    {
     "name": "stdout",
     "output_type": "stream",
     "text": "linear\n0.7515317723155022\nkneighbors\n0.2511663392651826\nadaboost\n0.36614041760146704\ngradientboost\n0.4580021217095039\n/home/davidhildner/anaconda3/lib/python3.7/site-packages/sklearn/neural_network/multilayer_perceptron.py:564: ConvergenceWarning: Stochastic Optimizer: Maximum iterations (1000) reached and the optimization hasn't converged yet.\n  % self.max_iter, ConvergenceWarning)\n/home/davidhildner/anaconda3/lib/python3.7/site-packages/sklearn/neural_network/multilayer_perceptron.py:564: ConvergenceWarning: Stochastic Optimizer: Maximum iterations (1000) reached and the optimization hasn't converged yet.\n  % self.max_iter, ConvergenceWarning)\n/home/davidhildner/anaconda3/lib/python3.7/site-packages/sklearn/neural_network/multilayer_perceptron.py:564: ConvergenceWarning: Stochastic Optimizer: Maximum iterations (1000) reached and the optimization hasn't converged yet.\n  % self.max_iter, ConvergenceWarning)\n/home/davidhildner/anaconda3/lib/python3.7/site-packages/sklearn/neural_network/multilayer_perceptron.py:564: ConvergenceWarning: Stochastic Optimizer: Maximum iterations (1000) reached and the optimization hasn't converged yet.\n  % self.max_iter, ConvergenceWarning)\nmlp\n0.42051324624037056\nsvr\n0.9995615241083269\n/home/davidhildner/anaconda3/lib/python3.7/site-packages/xgboost/core.py:613: UserWarning: Use subset (sliced data) of np.ndarray is not recommended because it will generate extra copies and increase memory consumption\n  warnings.warn(\"Use subset (sliced data) of np.ndarray is not recommended \" +\n/home/davidhildner/anaconda3/lib/python3.7/site-packages/xgboost/core.py:613: UserWarning: Use subset (sliced data) of np.ndarray is not recommended because it will generate extra copies and increase memory consumption\n  warnings.warn(\"Use subset (sliced data) of np.ndarray is not recommended \" +\n/home/davidhildner/anaconda3/lib/python3.7/site-packages/xgboost/core.py:613: UserWarning: Use subset (sliced data) of np.ndarray is not recommended because it will generate extra copies and increase memory consumption\n  warnings.warn(\"Use subset (sliced data) of np.ndarray is not recommended \" +\n/home/davidhildner/anaconda3/lib/python3.7/site-packages/xgboost/core.py:613: UserWarning: Use subset (sliced data) of np.ndarray is not recommended because it will generate extra copies and increase memory consumption\n  warnings.warn(\"Use subset (sliced data) of np.ndarray is not recommended \" +\n/home/davidhildner/anaconda3/lib/python3.7/site-packages/xgboost/core.py:613: UserWarning: Use subset (sliced data) of np.ndarray is not recommended because it will generate extra copies and increase memory consumption\n  warnings.warn(\"Use subset (sliced data) of np.ndarray is not recommended \" +\n/home/davidhildner/anaconda3/lib/python3.7/site-packages/xgboost/core.py:613: UserWarning: Use subset (sliced data) of np.ndarray is not recommended because it will generate extra copies and increase memory consumption\n  warnings.warn(\"Use subset (sliced data) of np.ndarray is not recommended \" +\n/home/davidhildner/anaconda3/lib/python3.7/site-packages/xgboost/core.py:613: UserWarning: Use subset (sliced data) of np.ndarray is not recommended because it will generate extra copies and increase memory consumption\n  warnings.warn(\"Use subset (sliced data) of np.ndarray is not recommended \" +\n/home/davidhildner/anaconda3/lib/python3.7/site-packages/xgboost/core.py:613: UserWarning: Use subset (sliced data) of np.ndarray is not recommended because it will generate extra copies and increase memory consumption\n  warnings.warn(\"Use subset (sliced data) of np.ndarray is not recommended \" +\nxgb\n0.6208159551024437\n"
    }
   ],
   "source": [
    " from amorf.problemTransformation import SingleTargetMethod\n",
    " from amorf.metrics import average_relative_root_mean_squared_error\n",
    " for selector in selectors:\n",
    "            regressor = SingleTargetMethod(selector)\n",
    "            regressor.fit(X_train, y_train) \n",
    "            result = regressor.predict(X_test)  \n",
    "            print(selector)\n",
    "            print(average_relative_root_mean_squared_error(result, y_test))"
   ]
  },
  {
   "cell_type": "markdown",
   "execution_count": null,
   "metadata": {},
   "outputs": [],
   "source": [
    "## Use Custom Regressor\n"
   ]
  },
  {
   "cell_type": "code",
   "execution_count": 9,
   "metadata": {},
   "outputs": [
    {
     "name": "stdout",
     "output_type": "stream",
     "text": "0.5130184849095898\n"
    }
   ],
   "source": [
    "from sklearn.linear_model import RidgeCV \n",
    "\n",
    "ridgeCV = RidgeCV() \n",
    "regressor = SingleTargetMethod(custom_regressor=ridgeCV) \n",
    "regressor.fit(X_train,y_train) \n",
    "result = regressor.predict(X_test) \n",
    "print(average_relative_root_mean_squared_error(result,y_test)) \n"
   ]
  },
  {
   "cell_type": "markdown",
   "execution_count": null,
   "metadata": {},
   "outputs": [],
   "source": []
  }
 ]
}