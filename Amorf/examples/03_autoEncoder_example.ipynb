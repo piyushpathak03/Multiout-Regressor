{
 "cells": [
  {
   "cell_type": "markdown",
   "metadata": {},
   "source": [
    "# Basic Auto Encoder Regression Example \n",
    "This example will show you how to use one of the provided data sets and ```amorf.problemTransformation.AutoEncoderRegression``` to perform a basic multi-output Regression \n",
    "\n",
    "This Methods trains an auto encoder and encodes the target variables to one single variable. Afterwads any normal regressor can be used to predict the single variable. The auto encoder will then decode the predicted variable into the target variables. "
   ]
  },
  {
   "cell_type": "markdown",
   "metadata": {},
   "source": [
    "## Load Test and Training Data\n"
   ]
  },
  {
   "cell_type": "code",
   "execution_count": 1,
   "metadata": {},
   "outputs": [],
   "source": [
    "from amorf.datasets import RiverFlow1 \n",
    "from sklearn.model_selection import train_test_split\n",
    "\n",
    "X, y = RiverFlow1().get_numpy()\n",
    "\n",
    "X_train, X_test, y_train, y_test = train_test_split(X, y, test_size=0.2, shuffle=True)"
   ]
  },
  {
   "cell_type": "markdown",
   "metadata": {},
   "source": [
    "## Initialize and Train Estimator"
   ]
  },
  {
   "cell_type": "code",
   "execution_count": 3,
   "metadata": {},
   "outputs": [
    {
     "name": "stderr",
     "output_type": "stream",
     "text": [
      "/home/davidhildner/anaconda3/lib/python3.7/site-packages/sklearn/ensemble/weight_boosting.py:29: DeprecationWarning: numpy.core.umath_tests is an internal NumPy module and should not be imported. It will be removed in a future NumPy release.\n",
      "  from numpy.core.umath_tests import inner1d\n",
      "Epoch 0\n",
      "Validation Error: 9830.96875\n",
      " Train Error:9979.4501953125\n",
      "Final Epochs: 38 \n",
      "Final Train Error: 5572.90673828125\n",
      "Final Validation Error: 6031.1201171875\n"
     ]
    },
    {
     "data": {
      "text/plain": [
       "<amorf.problemTransformation.AutoEncoderRegression at 0x7f4a21274890>"
      ]
     },
     "execution_count": 3,
     "metadata": {},
     "output_type": "execute_result"
    }
   ],
   "source": [
    "import amorf.problemTransformation as pt\n",
    "regressor = pt.AutoEncoderRegression(patience=4,training_limit=None)    \n",
    "regressor.fit(X_train, y_train)"
   ]
  },
  {
   "cell_type": "markdown",
   "metadata": {},
   "source": [
    "## Perform Prediction and Calculate Error \n"
   ]
  },
  {
   "cell_type": "code",
   "execution_count": 4,
   "metadata": {},
   "outputs": [
    {
     "name": "stdout",
     "output_type": "stream",
     "text": [
      "1.3400122001767159\n"
     ]
    }
   ],
   "source": [
    "from amorf.metrics import average_relative_root_mean_squared_error\n",
    "result = regressor.predict(X_test)\n",
    "\n",
    "print(average_relative_root_mean_squared_error(result, y_test))"
   ]
  },
  {
   "cell_type": "code",
   "execution_count": null,
   "metadata": {},
   "outputs": [],
   "source": []
  }
 ],
 "metadata": {
  "file_extension": ".py",
  "kernelspec": {
   "display_name": "Python 3",
   "language": "python",
   "name": "python3"
  },
  "language_info": {
   "codemirror_mode": {
    "name": "ipython",
    "version": 3
   },
   "file_extension": ".py",
   "mimetype": "text/x-python",
   "name": "python",
   "nbconvert_exporter": "python",
   "pygments_lexer": "ipython3",
   "version": "3.7.3"
  },
  "mimetype": "text/x-python",
  "name": "python",
  "npconvert_exporter": "python",
  "pygments_lexer": "ipython3",
  "version": 3
 },
 "nbformat": 4,
 "nbformat_minor": 2
}
